{
 "cells": [
  {
   "cell_type": "code",
   "execution_count": null,
   "metadata": {},
   "outputs": [
    {
     "name": "stdout",
     "output_type": "stream",
     "text": [
      "Welcome to our shop\n",
      "Shopkeeper says:Welcome to our shop\n"
     ]
    }
   ],
   "source": [
    "def greet_customer():\n",
    " return \"Welcome to our shop\"\n",
    "\n",
    "# assigning functions to variables\n",
    "my_greeting = greet_customer\n",
    "print(my_greeting())\n",
    "\n",
    "\n",
    "def use_greeting(greeting_func):\n",
    "    return f\"Shopkeeper says:{greeting_func()}\"\n",
    "print(use_greeting(greet_customer))\n",
    "\n",
    "# shopkeeper says: Welcome to our shop\n",
    "\n"
   ]
  },
  {
   "cell_type": "markdown",
   "id": "740affe3",
   "metadata": {},
   "source": [
    "### Creating first decorator"
   ]
  },
  {
   "cell_type": "code",
   "execution_count": 6,
   "id": "52b6db99",
   "metadata": {},
   "outputs": [],
   "source": [
    "def add_nigerian_politeness(original_function):\n",
    "    def wrapper():\n",
    "        result= original_function()\n",
    "        return f\"Good morning ooo! {result}, How is family?\"\n",
    "    return wrapper\n",
    "\n",
    "# original simple greeting\n",
    "def basic_greeting():\n",
    "    return \"Hello\""
   ]
  },
  {
   "cell_type": "code",
   "execution_count": 7,
   "id": "4691df71",
   "metadata": {},
   "outputs": [
    {
     "name": "stdout",
     "output_type": "stream",
     "text": [
      "Good morning ooo! Hello, How is family?\n"
     ]
    }
   ],
   "source": [
    "# applying the decorator manually\n",
    "polite_greeting = add_nigerian_politeness(basic_greeting)\n",
    "print(polite_greeting())"
   ]
  }
 ],
 "metadata": {
  "kernelspec": {
   "display_name": "my_venv",
   "language": "python",
   "name": "python3"
  },
  "language_info": {
   "codemirror_mode": {
    "name": "ipython",
    "version": 3
   },
   "file_extension": ".py",
   "mimetype": "text/x-python",
   "name": "python",
   "nbconvert_exporter": "python",
   "pygments_lexer": "ipython3",
   "version": "3.12.1"
  }
 },
 "nbformat": 4,
 "nbformat_minor": 5
}
