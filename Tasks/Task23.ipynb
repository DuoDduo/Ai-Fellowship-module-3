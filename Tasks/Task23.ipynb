{
 "cells": [
  {
   "cell_type": "code",
   "execution_count": 1,
   "id": "3e8ec492",
   "metadata": {},
   "outputs": [],
   "source": [
    "from datetime import datetime\n",
    "from decimal import Decimal\n",
    "from pydantic import BaseModel, Field, ValidationError, field_validator\n",
    "from typing import List\n",
    "\n",
    "# Lets create the twitter model\n",
    "class TwitterUser(BaseModel):\n",
    "        \"\"\"\n",
    "        Username cannot be Admin or Twitter. It only allows (_), special characters not allowed.\n",
    "        Maximum length of username is 15 and minimum length is 4.      \n",
    "        Twitter character limit is 280 for free accounts and 25,000 for premium accounts.\n",
    "        \"\"\"\n",
    "        #\n",
    "        username: str = Field(..., min_length=4, max_length=15, pattern=r\"^[A-Za-z0-9_]+$\", )\n",
    "        # Checking username doesn't have Admin and twitter using decorator\n",
    "        @field_validator(\"username\")\n",
    "        def username_cannot_be(cls, v):\n",
    "                if v.lower() in {'admin', 'twitter'}:\n",
    "                        raise ValueError(\"Username cannot be Admin or Twitter\")\n",
    "                return v\n",
    "        free_account_post: str = Field(..., min_length=1, max_length=280, pattern=r\"^[\\s\\S]+$\")\n",
    "        premium_account_post: str = Field(..., min_length=1, max_length=25000, pattern=r\"^[\\s\\S]+$\")\n",
    "        is_active: bool = Field(default=True)\n",
    "        created_at: datetime = Field(default_factory=datetime.now)"
   ]
  },
  {
   "cell_type": "code",
   "execution_count": null,
   "id": "009bb3b1",
   "metadata": {},
   "outputs": [],
   "source": [
    "# Creating a demo for each variable using 'admin' as the username and more than 280 characters for the free account.\n",
    "def demo_str_field():\n",
    "    print(\"Twitter Field Validation\")\n",
    "    try:\n",
    "        TwitterUser(\n",
    "        username =\"admin\",\n",
    "\n",
    "        free_account_post=\"Pydantic like typing is used to build a structured, type-safe data models.\"\\\n",
    "        \"It uses these type hints to validate,serialize, parse and structure data automatically.\" \\\n",
    "        \"In simple terms, It takes messy or untrusted data like API input, JSON or form data and checks that it matches your type definitions.\" \\\n",
    "        \"Now if the data type doesnt match, pydantic raises an error with a clear explanation.\", \n",
    "\n",
    "        premium_account_post=\"Pydantic like typing is used to build a structured, type-safe data models.,\" \\\n",
    "        \" It uses these type hints to validate,serialize, parse and structure data automatically.,\" \\\n",
    "        \"In simple terms, It takes messy or untrusted data like API input, JSON or form data and checks that it matches your type definitions. ,\" \\\n",
    "        \"Now if the data type doesnt match, pydantic raises an error with a clear explanation.\"\n",
    "        )\n",
    "    except ValidationError as e:\n",
    "        print(e)\n",
    "        \n",
    "       "
   ]
  },
  {
   "cell_type": "code",
   "execution_count": 7,
   "id": "6e71fb34",
   "metadata": {},
   "outputs": [
    {
     "name": "stdout",
     "output_type": "stream",
     "text": [
      "Twitter Field Validation\n",
      "2 validation errors for TwitterUser\n",
      "username\n",
      "  Value error, Username cannot be Admin or Twitter [type=value_error, input_value='admin', input_type=str]\n",
      "    For further information visit https://errors.pydantic.dev/2.12/v/value_error\n",
      "free_account_post\n",
      "  String should have at most 280 characters [type=string_too_long, input_value='Pydantic like typing is ...th a clear explanation.', input_type=str]\n",
      "    For further information visit https://errors.pydantic.dev/2.12/v/string_too_long\n"
     ]
    }
   ],
   "source": [
    "demo_str_field() # Validation error, username cannot be admin and the free account cannot exceed 280"
   ]
  },
  {
   "cell_type": "code",
   "execution_count": null,
   "id": "0565e151",
   "metadata": {},
   "outputs": [],
   "source": [
    "# Creating a demo for each variable using 'admin' as the username \n",
    "def demo_str_field():\n",
    "    print(\"Twitter Field Validation\")\n",
    "    \n",
    "    try:\n",
    "        TwitterUser(\n",
    "            username=\"shabi_89\", \n",
    "            free_account_post=\"Our new juice is amazing!\", \n",
    "            premium_account_post=\"A lengthy update for our fruit jice lovers with great details.\"\n",
    "        )\n",
    "    except ValueError as e:\n",
    "        print(e)"
   ]
  },
  {
   "cell_type": "code",
   "execution_count": 11,
   "id": "4046b678",
   "metadata": {},
   "outputs": [
    {
     "name": "stdout",
     "output_type": "stream",
     "text": [
      "Twitter Field Validation\n"
     ]
    }
   ],
   "source": [
    "# Checking the model for the validations\n",
    "demo_str_field() # validates twitter"
   ]
  },
  {
   "cell_type": "code",
   "execution_count": 17,
   "id": "9d093b79",
   "metadata": {},
   "outputs": [],
   "source": [
    "# Create a demo for the bool\n",
    "def demo_bool_field():\n",
    "    print(\"Bool Validation\")\n",
    "\n",
    "    account = TwitterUser(username=\"shabi_89\", \n",
    "            free_account_post=\"Our new juice is amazing!\", \n",
    "            premium_account_post=\"A lengthy update for our fruit jice lovers with great details.\",)\n",
    "    \n",
    "    print(\"Twitter account is active:\", account.is_active)\n"
   ]
  },
  {
   "cell_type": "code",
   "execution_count": 18,
   "id": "63f09db0",
   "metadata": {},
   "outputs": [
    {
     "name": "stdout",
     "output_type": "stream",
     "text": [
      "Bool Validation\n",
      "Twitter account is active: True\n"
     ]
    }
   ],
   "source": [
    "demo_bool_field() # Validation error, username cannot be admin"
   ]
  },
  {
   "cell_type": "code",
   "execution_count": 21,
   "id": "f6fd1836",
   "metadata": {},
   "outputs": [
    {
     "name": "stdout",
     "output_type": "stream",
     "text": [
      "Datetime Validation\n",
      "Account created at: 2025-10-16 15:23:41.626642\n"
     ]
    }
   ],
   "source": [
    "# Create a demo for the datetime\n",
    "def demo_datetime_field():\n",
    "    print(\"Datetime Validation\")\n",
    "\n",
    "    account = TwitterUser(username=\"shabi_89\", \n",
    "            free_account_post=\"Our new juice is amazing!\", \n",
    "            premium_account_post=\"A lengthy update for our fruit jice lovers with great details.\",)\n",
    "    \n",
    "    print(\"Account created at:\", account.created_at)\n",
    "\n",
    "demo_datetime_field()"
   ]
  },
  {
   "cell_type": "code",
   "execution_count": null,
   "id": "dc4e69ef",
   "metadata": {},
   "outputs": [],
   "source": []
  }
 ],
 "metadata": {
  "kernelspec": {
   "display_name": "my_venv (3.13.5)",
   "language": "python",
   "name": "python3"
  },
  "language_info": {
   "codemirror_mode": {
    "name": "ipython",
    "version": 3
   },
   "file_extension": ".py",
   "mimetype": "text/x-python",
   "name": "python",
   "nbconvert_exporter": "python",
   "pygments_lexer": "ipython3",
   "version": "3.13.5"
  }
 },
 "nbformat": 4,
 "nbformat_minor": 5
}
