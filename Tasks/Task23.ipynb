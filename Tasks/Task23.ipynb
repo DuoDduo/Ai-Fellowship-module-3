{
 "cells": [
  {
   "cell_type": "code",
   "execution_count": null,
   "id": "172577c7",
   "metadata": {},
   "outputs": [
    {
     "name": "stderr",
     "output_type": "stream",
     "text": [
      "C:\\Users\\SHOPINVERSE\\AppData\\Local\\Temp\\ipykernel_25000\\2674115213.py:18: PydanticDeprecatedSince20: Using extra keyword arguments on `Field` is deprecated and will be removed. Use `json_schema_extra` instead. (Extra keys: 'min_Length'). Deprecated in Pydantic V2.0 to be removed in V3.0. See Pydantic V2 Migration Guide at https://errors.pydantic.dev/2.12/migration/\n",
      "  free_account_post: str = Field(..., min_Length=1, max_length=280, pattern=r\"^[\\s\\S]+$\")\n",
      "C:\\Users\\SHOPINVERSE\\AppData\\Local\\Temp\\ipykernel_25000\\2674115213.py:19: PydanticDeprecatedSince20: Using extra keyword arguments on `Field` is deprecated and will be removed. Use `json_schema_extra` instead. (Extra keys: 'max_Lengt'). Deprecated in Pydantic V2.0 to be removed in V3.0. See Pydantic V2 Migration Guide at https://errors.pydantic.dev/2.12/migration/\n",
      "  premium_account_post: str=Field(..., min_length=1, max_Lengt=25000,pattern=r\"^[\\s\\S]+$\")\n"
     ]
    }
   ],
   "source": [
    "from datetime import datetime\n",
    "from decimal import Decimal\n",
    "from pydantic import BaseModel,Field, ValidationError,field_validator\n",
    "from typing import List\n",
    "\n",
    "\n",
    "# creating the model\n",
    "class TwitterUser(BaseModel):\n",
    "    username:str = Field(..., min_length=4, max_length=15, pattern=r\"^[A-Za-z0-9_]+$\")\n",
    "    \n",
    "   # Checking if username doesn't have Admin and twitter using decorator\n",
    "    @field_validator(\"username\")\n",
    "    def username_cannot_be(cls, v):\n",
    "        if v.lower() in {'admin', 'twitter'}:\n",
    "            raise ValueError(\"Username cannot be Admin or Twitter\")\n",
    "        return v\n",
    "    free_account_post: str = Field(..., min_Length=1, max_length=280, pattern=r\"^[\\s\\S]+$\")\n",
    "    premium_account_post: str=Field(..., min_length=1, max_Lengt=25000,pattern=r\"^[\\s\\S]+$\")\n",
    "    is_active:bool= Field(default=True)\n",
    "    created_at: datetime = Field(default_factory=datetime.now)"
   ]
  },
  {
   "cell_type": "code",
   "execution_count": 20,
   "id": "0565e151",
   "metadata": {},
   "outputs": [],
   "source": [
    "def demo_user_field():\n",
    "    print(\"Twitter Field Validation\")\n",
    "    \n",
    "    try:\n",
    "        TwitterUser(\n",
    "            username=\"admin\", \n",
    "            free_account_post=\"Our new juice is amazing!\", \n",
    "            premium_account_post=\"A lengthy update for our fruit jice lovers with great details.\",\n",
    "        )\n",
    "    except ValueError as e:\n",
    "        print(e)"
   ]
  },
  {
   "cell_type": "code",
   "execution_count": 21,
   "id": "63f09db0",
   "metadata": {},
   "outputs": [
    {
     "name": "stdout",
     "output_type": "stream",
     "text": [
      "Twitter Field Validation\n",
      "1 validation error for TwitterUser\n",
      "username\n",
      "  Value error, Username cannot be Admin or Twitter [type=value_error, input_value='admin', input_type=str]\n",
      "    For further information visit https://errors.pydantic.dev/2.12/v/value_error\n"
     ]
    }
   ],
   "source": [
    "demo_user_field()"
   ]
  },
  {
   "cell_type": "code",
   "execution_count": 22,
   "id": "818e726b",
   "metadata": {},
   "outputs": [],
   "source": [
    "def demo_user_field():\n",
    "    print(\"Twitter Field Validation\")\n",
    "    \n",
    "    try:\n",
    "        TwitterUser(\n",
    "            username=\"shabi_fruta\", \n",
    "            free_account_post=\"Our new juice is amazing!\", \n",
    "            premium_account_post=\"A lengthy update for our fruit jice lovers with great details.\",\n",
    "        )\n",
    "    except ValueError as e:\n",
    "        print(e)"
   ]
  },
  {
   "cell_type": "code",
   "execution_count": 23,
   "id": "f6fd1836",
   "metadata": {},
   "outputs": [
    {
     "name": "stdout",
     "output_type": "stream",
     "text": [
      "Twitter Field Validation\n"
     ]
    }
   ],
   "source": [
    "demo_user_field()"
   ]
  },
  {
   "cell_type": "code",
   "execution_count": null,
   "id": "dc4e69ef",
   "metadata": {},
   "outputs": [],
   "source": []
  }
 ],
 "metadata": {
  "kernelspec": {
   "display_name": "my_venv",
   "language": "python",
   "name": "python3"
  },
  "language_info": {
   "codemirror_mode": {
    "name": "ipython",
    "version": 3
   },
   "file_extension": ".py",
   "mimetype": "text/x-python",
   "name": "python",
   "nbconvert_exporter": "python",
   "pygments_lexer": "ipython3",
   "version": "3.12.1"
  }
 },
 "nbformat": 4,
 "nbformat_minor": 5
}
