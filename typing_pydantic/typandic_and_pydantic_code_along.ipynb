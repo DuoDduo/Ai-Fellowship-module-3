{
 "cells": [
  {
   "cell_type": "markdown",
   "id": "1dac214f",
   "metadata": {},
   "source": [
    "### **Python Typing** "
   ]
  },
  {
   "cell_type": "markdown",
   "id": "57a4d437",
   "metadata": {},
   "source": [
    "Typing deals with data types like int, float, bool, str -these are the basic or primitive types.\n",
    "and also data structures like liast, tuple, dict, set - these are te collection types.\n",
    "\n",
    "\n",
    "Now, typing is a system that lets you explicitly state what types( or combination of types) youe variables, function arguments and return values should be.\n",
    "\n",
    "But you need to know that typing extends a bit more. it is more about describing the shape if your data and how it flows through your program."
   ]
  },
  {
   "cell_type": "code",
   "execution_count": 1,
   "id": "297f09cc",
   "metadata": {},
   "outputs": [],
   "source": [
    "def get_fellows_names(fellow: list[str]) -> list[str]:\n",
    "    return fellow"
   ]
  },
  {
   "cell_type": "markdown",
   "id": "437da70e",
   "metadata": {},
   "source": [
    "`(fellow: list[str])` - type of input the function should accept.\n",
    "\n",
    "`-> list[str]` - type of output you should expect."
   ]
  },
  {
   "cell_type": "markdown",
   "id": "991539a8",
   "metadata": {},
   "source": [
    "The function is saying that fellow must be a list, not just any list by a list of strings.\n",
    "\n",
    "Here, we would understand that  typing helps to add precision and intent. You are not just saying  that this is a list - you are saying, this is a list of students names.\n",
    "\n",
    "Think of data types as ingredients(e.g, int, str, list)\n",
    "and typing as the recipe - it tells us how those ingredients should fit togeter and flow through our program. \n",
    "\n",
    "So in summary, typing is about using data types and data structure to define rules nad expectations for our program."
   ]
  },
  {
   "cell_type": "markdown",
   "id": "2ca7198b",
   "metadata": {},
   "source": [
    "`names: list[str] = [\"Esther\", \"Peter\", \"David\"]`\n",
    "- Meaning that every value in the list should be strings\n",
    "\n",
    "so the function will not accept this\n",
    "\n",
    "`names = [\"Esther\", 22, True]`\n",
    "The reasom is because it mixes different types(str, int, bool)\n",
    "\n"
   ]
  },
  {
   "cell_type": "code",
   "execution_count": 2,
   "id": "aabb2848",
   "metadata": {},
   "outputs": [],
   "source": [
    "def get_average(name: str,scores:list[float]) -> float:\n",
    "    average_score = sum(scores)/len(scores)\n",
    "    print(f\"{name}'s average score is {average_score}\")\n",
    "    return average_score"
   ]
  },
  {
   "cell_type": "markdown",
   "id": "8b5b6b22",
   "metadata": {},
   "source": [
    "`name: str` - The parameter `name` must be a string\n",
    "\n",
    "`scores: list[int]` - The argument `scores` must be a list containing integers.\n",
    "\n",
    "-> float - The function must return a floating point number\n"
   ]
  },
  {
   "cell_type": "code",
   "execution_count": 3,
   "id": "c524960c",
   "metadata": {},
   "outputs": [],
   "source": [
    "def greet(name:str) -> None:\n",
    "    print(f\"Hello, {name}\")"
   ]
  },
  {
   "cell_type": "markdown",
   "id": "f7ea0f7b",
   "metadata": {},
   "source": [
    "This function `prints` something, but it doesn’t return anything with a return statement.\n",
    "So its “return type” is `None`."
   ]
  },
  {
   "cell_type": "markdown",
   "id": "d664cc8f",
   "metadata": {},
   "source": [
    "In Python, when a function has no `return` statement, or when it ends without returning a value,\n",
    "Python automatically returns `None` under the hood."
   ]
  },
  {
   "cell_type": "code",
   "execution_count": 4,
   "id": "2dd6daf4",
   "metadata": {},
   "outputs": [],
   "source": [
    "def add(a: int, b: int) -> int:\n",
    "    return a + b"
   ]
  },
  {
   "cell_type": "code",
   "execution_count": 5,
   "id": "66c2e46f",
   "metadata": {},
   "outputs": [
    {
     "data": {
      "text/plain": [
       "3.8"
      ]
     },
     "execution_count": 5,
     "metadata": {},
     "output_type": "execute_result"
    }
   ],
   "source": [
    "add(1.0, 2.8)"
   ]
  },
  {
   "cell_type": "markdown",
   "id": "563685c1",
   "metadata": {},
   "source": [
    "**Typing module**"
   ]
  },
  {
   "cell_type": "markdown",
   "id": "784c144a",
   "metadata": {},
   "source": [
    "The typing module is part of Python’s standard library.\n",
    "\n",
    "It provides tools called **type hints** that let you describe what _kind of data_ your variables, functions, and classes work with especially when things get more complicated."
   ]
  },
  {
   "cell_type": "code",
   "execution_count": 6,
   "id": "d186fdf2",
   "metadata": {},
   "outputs": [],
   "source": [
    "from typing import List, Dict, Union, Optional"
   ]
  },
  {
   "cell_type": "code",
   "execution_count": 7,
   "id": "6bbd8b35",
   "metadata": {},
   "outputs": [],
   "source": [
    "def process_scores(scores: List[int],info: Dict[str, Union[int,float]],comment: Optional [str] = None) -> None:\n",
    "    print(\"Scores:\",scores)\n",
    "    print(\"Info:\", info)\n",
    "    if comment:\n",
    "        print(\"Comment:\", comment)\n",
    "    \n"
   ]
  },
  {
   "cell_type": "markdown",
   "id": "177234a3",
   "metadata": {},
   "source": [
    "This tells python that;\n",
    "- `scores` - is a list of integers\n",
    "- `info` - is a dictionary with string keys and values that can be `int` or `str`\n",
    "- `comment` is a string or `None`\n",
    "- `-> None` doesn't return anything"
   ]
  },
  {
   "cell_type": "code",
   "execution_count": 8,
   "id": "cf6ab531",
   "metadata": {},
   "outputs": [],
   "source": [
    "from typing import Union\n",
    "def get_fellow_id(id: Union[int, str])-> str:\n",
    "    return f\"fellow ID:{id}\""
   ]
  },
  {
   "cell_type": "code",
   "execution_count": 9,
   "id": "2249e10b",
   "metadata": {},
   "outputs": [
    {
     "name": "stdout",
     "output_type": "stream",
     "text": [
      "fellow ID:42\n",
      "fellow ID:42\n",
      "fellow ID:AIE-200\n"
     ]
    }
   ],
   "source": [
    "print(get_fellow_id(42))\n",
    "print(get_fellow_id(\"42\"))\n",
    "print(get_fellow_id(\"AIE-200\"))"
   ]
  },
  {
   "cell_type": "code",
   "execution_count": 10,
   "id": "a5092dfe",
   "metadata": {},
   "outputs": [
    {
     "name": "stdout",
     "output_type": "stream",
     "text": [
      "fellow ID:42.0\n"
     ]
    }
   ],
   "source": [
    "# lets try giving it float\n",
    "\n",
    "print(get_fellow_id(42.0)) # 0ur IDE will flag it because it is not a string..."
   ]
  },
  {
   "cell_type": "markdown",
   "id": "12bd10f4",
   "metadata": {},
   "source": [
    "if you like ... you can decide to chain two or more types\n",
    "`Union[int, float, str]`\n",
    "\n",
    "But you should keep it simple and not complicate matters."
   ]
  },
  {
   "cell_type": "code",
   "execution_count": 11,
   "id": "1bd28d61",
   "metadata": {},
   "outputs": [],
   "source": [
    "def get_fellow_id(id: int | str) -> str:\n",
    "    return f\"fellow ID: {id}\"\n",
    "\n",
    "# same as\n",
    "\n",
    "def get_fellow_id(id: Union[int, str]) -> str:\n",
    "    return f\"fellow ID: {id}\""
   ]
  },
  {
   "cell_type": "code",
   "execution_count": 12,
   "id": "6aef8150",
   "metadata": {},
   "outputs": [],
   "source": [
    "from typing import Union\n",
    "\n",
    "def format_address(house_number: Union[int, str], street:str) -> str:\n",
    "    return f\"{house_number} {street}\""
   ]
  },
  {
   "cell_type": "code",
   "execution_count": 13,
   "id": "1d19cd12",
   "metadata": {},
   "outputs": [
    {
     "name": "stdout",
     "output_type": "stream",
     "text": [
      "23 Lakeside\n",
      "16B Egerton Estate\n"
     ]
    }
   ],
   "source": [
    "print(format_address(23,\"Lakeside\"))\n",
    "print(format_address(\"16B\",\"Egerton Estate\"))"
   ]
  },
  {
   "cell_type": "markdown",
   "id": "8f370f29",
   "metadata": {},
   "source": [
    "**Optional**"
   ]
  },
  {
   "cell_type": "markdown",
   "id": "a280f6ea",
   "metadata": {},
   "source": [
    "Sometimes you don’t just have “this or that”, \n",
    "you have “this or nothing”.\n",
    "\n",
    "This is  where `Optional` comes in."
   ]
  },
  {
   "cell_type": "markdown",
   "id": "6b5faf85",
   "metadata": {},
   "source": [
    "Optional is just a shorthand for a very common Union case:\n",
    "\n",
    "```\n",
    "Optional[X]  ==  Union[X, None]\n",
    "\n",
    "```\n",
    "\n",
    "```\n",
    "optional[str] # This means the value can string or \"None\"(nothing)\n",
    "```\n"
   ]
  },
  {
   "cell_type": "markdown",
   "id": "5bcfe84a",
   "metadata": {},
   "source": [
    "Now, in a real project, it is common to have parameters or fields that are not always provided.\n",
    "\n",
    "for example, \n",
    "- A user might have a middle name or might not\n",
    "- An API request might include a comment, or might leave it blank\n",
    "\n",
    "This is what optional expresses\n"
   ]
  },
  {
   "cell_type": "code",
   "execution_count": 14,
   "id": "c9007563",
   "metadata": {},
   "outputs": [],
   "source": [
    "from typing import Optional\n",
    "def greet(first_name: str, last_name:Optional[str]= None) -> None:\n",
    "    if last_name:\n",
    "        print(f\"Hello {first_name} {last_name}\")\n",
    "    else:\n",
    "        print(f\"Hello {first_name}\")    "
   ]
  },
  {
   "cell_type": "code",
   "execution_count": 15,
   "id": "2404ab30",
   "metadata": {},
   "outputs": [
    {
     "name": "stdout",
     "output_type": "stream",
     "text": [
      "Hello Toyeebat Arike\n",
      "Hello Toyeebat\n"
     ]
    }
   ],
   "source": [
    "greet(\"Toyeebat\", \"Arike\")\n",
    "greet(\"Toyeebat\")"
   ]
  },
  {
   "cell_type": "markdown",
   "id": "f303777e",
   "metadata": {},
   "source": [
    "The last_name parameter can be a string or None.\n",
    "\n",
    "By default, we set it to None if the user doesn’t supply one."
   ]
  },
  {
   "cell_type": "code",
   "execution_count": 16,
   "id": "f7e88c6a",
   "metadata": {},
   "outputs": [],
   "source": [
    "def find_user(username: str) -> Optional[dict]:\n",
    "    if username == \"admin\":\n",
    "        return {\"username\":\"admin\",\"role\":\"superuser\"}\n",
    "    return None"
   ]
  },
  {
   "cell_type": "markdown",
   "id": "b46a3baa",
   "metadata": {},
   "source": [
    "The function returns a dictionary if the user exists.\n",
    "\n",
    "If not, it returns None.\n",
    "\n",
    "That’s exactly what Optional describes."
   ]
  },
  {
   "cell_type": "code",
   "execution_count": 17,
   "id": "046b0083",
   "metadata": {},
   "outputs": [
    {
     "data": {
      "text/plain": [
       "{'username': 'admin', 'role': 'superuser'}"
      ]
     },
     "execution_count": 17,
     "metadata": {},
     "output_type": "execute_result"
    }
   ],
   "source": [
    "find_user('admin')"
   ]
  },
  {
   "cell_type": "markdown",
   "id": "d4c476f0",
   "metadata": {},
   "source": [
    "**typed collections**\n",
    "\n",
    "- Starting with `dict` and `tuple`. These are quite important because wen we get to Pydantic models and FastAPI, we will use them to describe structured data."
   ]
  },
  {
   "cell_type": "markdown",
   "id": "4844d3e8",
   "metadata": {},
   "source": [
    "**`Dict` - typed dictionary**"
   ]
  },
  {
   "cell_type": "markdown",
   "id": "35a7df21",
   "metadata": {},
   "source": [
    "`Dict[K,V]` describes a dictionary where\n",
    "- `k` - type of the keys\n",
    "- `V` - type of the values\n",
    "\n",
    "- This takes the _**kwargs_ arguments"
   ]
  },
  {
   "cell_type": "code",
   "execution_count": 18,
   "id": "67721981",
   "metadata": {},
   "outputs": [],
   "source": [
    "from typing import Dict\n",
    "fellow_scores: Dict[str, int] = {\n",
    "    \"David\":89,\n",
    "    \"Michael\":98\n",
    "}"
   ]
  },
  {
   "cell_type": "markdown",
   "id": "494b19bd",
   "metadata": {},
   "source": [
    "This means that every key is a string and every value is an integer.\n",
    "The IDE will flag it if you decide to add a string as a value\n"
   ]
  },
  {
   "cell_type": "markdown",
   "id": "86f21dee",
   "metadata": {},
   "source": [
    "**`Tuple` Typed Tuples**"
   ]
  },
  {
   "cell_type": "markdown",
   "id": "cc3938af",
   "metadata": {},
   "source": [
    "A tuple is like a small fixed-sized list, but we can define exactly what type each position shuld have."
   ]
  },
  {
   "cell_type": "code",
   "execution_count": 19,
   "id": "a62f9b71",
   "metadata": {},
   "outputs": [],
   "source": [
    "from typing import Tuple\n",
    "\n",
    "fellow: Tuple[str, int, str] = (\"Perpetual\",88,\"AI Engineering\")"
   ]
  },
  {
   "cell_type": "markdown",
   "id": "3747908b",
   "metadata": {},
   "source": [
    "This means that position 0 takes on string, 1 takes on int while 2 takes on strings also.And it will be flagged if interchanged."
   ]
  },
  {
   "cell_type": "markdown",
   "id": "d4409392",
   "metadata": {},
   "source": [
    "**Pydantic**"
   ]
  },
  {
   "cell_type": "markdown",
   "id": "ebd3db38",
   "metadata": {},
   "source": [
    "Pydantic like typing is used to build a structured, type-safe data models. It uses these type hints to validate,serialize, parse and structure data automatically.\n",
    "\n",
    "In simple terms, It takes messy or untrusted data like API input, JSON or form data and checks that it matches your type definitions.\n",
    "\n",
    "Now if the data type doesnt match, pydantic raises an error with a clear explanation.\n"
   ]
  },
  {
   "cell_type": "markdown",
   "id": "6bf5ab4b",
   "metadata": {},
   "source": [
    "**Using Pydantic**"
   ]
  },
  {
   "cell_type": "markdown",
   "id": "fdfe87fb",
   "metadata": {},
   "source": [
    "You can `pip install pydantic`but if you have already installed `fastapi` that means you have it already."
   ]
  },
  {
   "cell_type": "code",
   "execution_count": 20,
   "id": "0e45381f",
   "metadata": {},
   "outputs": [],
   "source": [
    "%%capture\n",
    "%pip install pydantic"
   ]
  },
  {
   "cell_type": "code",
   "execution_count": 21,
   "id": "64fa503c",
   "metadata": {},
   "outputs": [],
   "source": [
    "# importing pydantic\n",
    "from pydantic import BaseModel"
   ]
  },
  {
   "cell_type": "markdown",
   "id": "6431ea51",
   "metadata": {},
   "source": [
    "`BaseModel` - This is the core class in pydantic that all our models inherit from(do you still remember inheritance?)\n",
    "\n",
    "- It gives your class the superpowers that makes pydantic useful. It handles core concept like;\n",
    "- data validation\n",
    "- autmatic type conversion\n",
    "- error reporting\n",
    "- serialization/ deserialization\n",
    "- schema generation - this one is heavily used in FastAPI"
   ]
  },
  {
   "cell_type": "code",
   "execution_count": 22,
   "id": "7e150c23",
   "metadata": {},
   "outputs": [],
   "source": [
    "# creating a pydantic data model\n",
    "class Fellow(BaseModel):\n",
    "    name:str\n",
    "    score:int\n",
    "    track:str "
   ]
  },
  {
   "cell_type": "markdown",
   "id": "916a7738",
   "metadata": {},
   "source": [
    "These data model knows\n",
    "- What fields it has (`name`,`score`,`track`)\n",
    "- What types those field should be (`str`,`int`,`str`)\n",
    "- how to check and clean input data\n",
    "- how to output itsself as clean, structured data(`dict`,`json`, etc)"
   ]
  },
  {
   "cell_type": "markdown",
   "id": "536bebac",
   "metadata": {},
   "source": [
    "**What is `BaseModel` Capable of**"
   ]
  },
  {
   "cell_type": "code",
   "execution_count": 23,
   "id": "ce6a90c5",
   "metadata": {},
   "outputs": [
    {
     "data": {
      "text/plain": [
       "Fellow(name='Kanyisola', score=88, track='AI Engineering')"
      ]
     },
     "execution_count": 23,
     "metadata": {},
     "output_type": "execute_result"
    }
   ],
   "source": [
    "# Validation- It automatically validates data passed into it\n",
    "Fellow(name = \"Kanyisola\", score = 88, track=\"AI Engineering\")"
   ]
  },
  {
   "cell_type": "code",
   "execution_count": 24,
   "id": "3240a33f",
   "metadata": {},
   "outputs": [
    {
     "ename": "ValidationError",
     "evalue": "1 validation error for Fellow\nscore\n  Input should be a valid integer, unable to parse string as an integer [type=int_parsing, input_value='eighty_seven', input_type=str]\n    For further information visit https://errors.pydantic.dev/2.12/v/int_parsing",
     "output_type": "error",
     "traceback": [
      "\u001b[31m---------------------------------------------------------------------------\u001b[39m",
      "\u001b[31mValidationError\u001b[39m                           Traceback (most recent call last)",
      "\u001b[36mCell\u001b[39m\u001b[36m \u001b[39m\u001b[32mIn[24]\u001b[39m\u001b[32m, line 2\u001b[39m\n\u001b[32m      1\u001b[39m \u001b[38;5;66;03m# invalid input\u001b[39;00m\n\u001b[32m----> \u001b[39m\u001b[32m2\u001b[39m \u001b[43mFellow\u001b[49m\u001b[43m(\u001b[49m\u001b[43mname\u001b[49m\u001b[43m=\u001b[49m\u001b[33;43m\"\u001b[39;49m\u001b[33;43mPerpetual\u001b[39;49m\u001b[33;43m\"\u001b[39;49m\u001b[43m,\u001b[49m\u001b[43m \u001b[49m\u001b[43mscore\u001b[49m\u001b[43m=\u001b[49m\u001b[33;43m\"\u001b[39;49m\u001b[33;43meighty_seven\u001b[39;49m\u001b[33;43m\"\u001b[39;49m\u001b[43m,\u001b[49m\u001b[43m \u001b[49m\u001b[43mtrack\u001b[49m\u001b[43m \u001b[49m\u001b[43m=\u001b[49m\u001b[33;43m\"\u001b[39;49m\u001b[33;43mAI Engineering\u001b[39;49m\u001b[33;43m\"\u001b[39;49m\u001b[43m)\u001b[49m\n",
      "\u001b[36mFile \u001b[39m\u001b[32mc:\\Users\\SHOPINVERSE\\Desktop\\ai_fellowjip_module_3\\my_venv\\Lib\\site-packages\\pydantic\\main.py:250\u001b[39m, in \u001b[36mBaseModel.__init__\u001b[39m\u001b[34m(self, **data)\u001b[39m\n\u001b[32m    248\u001b[39m \u001b[38;5;66;03m# `__tracebackhide__` tells pytest and some other tools to omit this function from tracebacks\u001b[39;00m\n\u001b[32m    249\u001b[39m __tracebackhide__ = \u001b[38;5;28;01mTrue\u001b[39;00m\n\u001b[32m--> \u001b[39m\u001b[32m250\u001b[39m validated_self = \u001b[38;5;28;43mself\u001b[39;49m\u001b[43m.\u001b[49m\u001b[43m__pydantic_validator__\u001b[49m\u001b[43m.\u001b[49m\u001b[43mvalidate_python\u001b[49m\u001b[43m(\u001b[49m\u001b[43mdata\u001b[49m\u001b[43m,\u001b[49m\u001b[43m \u001b[49m\u001b[43mself_instance\u001b[49m\u001b[43m=\u001b[49m\u001b[38;5;28;43mself\u001b[39;49m\u001b[43m)\u001b[49m\n\u001b[32m    251\u001b[39m \u001b[38;5;28;01mif\u001b[39;00m \u001b[38;5;28mself\u001b[39m \u001b[38;5;129;01mis\u001b[39;00m \u001b[38;5;129;01mnot\u001b[39;00m validated_self:\n\u001b[32m    252\u001b[39m     warnings.warn(\n\u001b[32m    253\u001b[39m         \u001b[33m'\u001b[39m\u001b[33mA custom validator is returning a value other than `self`.\u001b[39m\u001b[38;5;130;01m\\n\u001b[39;00m\u001b[33m'\u001b[39m\n\u001b[32m    254\u001b[39m         \u001b[33m\"\u001b[39m\u001b[33mReturning anything other than `self` from a top level model validator isn\u001b[39m\u001b[33m'\u001b[39m\u001b[33mt supported when validating via `__init__`.\u001b[39m\u001b[38;5;130;01m\\n\u001b[39;00m\u001b[33m\"\u001b[39m\n\u001b[32m    255\u001b[39m         \u001b[33m'\u001b[39m\u001b[33mSee the `model_validator` docs (https://docs.pydantic.dev/latest/concepts/validators/#model-validators) for more details.\u001b[39m\u001b[33m'\u001b[39m,\n\u001b[32m    256\u001b[39m         stacklevel=\u001b[32m2\u001b[39m,\n\u001b[32m    257\u001b[39m     )\n",
      "\u001b[31mValidationError\u001b[39m: 1 validation error for Fellow\nscore\n  Input should be a valid integer, unable to parse string as an integer [type=int_parsing, input_value='eighty_seven', input_type=str]\n    For further information visit https://errors.pydantic.dev/2.12/v/int_parsing"
     ]
    }
   ],
   "source": [
    "# invalid input\n",
    "Fellow(name=\"Perpetual\", score=\"eighty_seven\", track =\"AI Engineering\")"
   ]
  },
  {
   "cell_type": "code",
   "execution_count": null,
   "id": "3905d2c4",
   "metadata": {},
   "outputs": [],
   "source": [
    "#2. parsing and type conversion - It automatically converts compatible types \n",
    "# It reads and interprete data\n",
    "\n",
    "p = Fellow(name = \"Perpetual\", score = \"88\", track = \"AI Engineering\")\n",
    "print(type(p.score))"
   ]
  },
  {
   "cell_type": "markdown",
   "id": "0240f1c1",
   "metadata": {},
   "source": [
    "This is telling us that the compatible class is int and  not string as we have define above."
   ]
  },
  {
   "cell_type": "code",
   "execution_count": null,
   "id": "a520b8cc",
   "metadata": {},
   "outputs": [
    {
     "name": "stdout",
     "output_type": "stream",
     "text": [
      "name='Blessing' score=100 track='AI Engineering '\n",
      "<class 'int'>\n"
     ]
    }
   ],
   "source": [
    "# an incomming data\n",
    "data= {\"name\":\"Blessing\", \"score\": \"100\", \"track\":\"AI Engineering \"}\n",
    "\n",
    "# pydantic will parse it like this\n",
    "fellow =Fellow(**data)\n",
    "\n",
    "print(fellow)\n",
    "print(type(fellow.score))"
   ]
  },
  {
   "cell_type": "markdown",
   "id": "34a274ce",
   "metadata": {},
   "source": [
    "Here, Pydantic **parsed** \"100\" (a string) into 100 (an int).\n",
    "It “understood” the data and converted it into a proper Python model."
   ]
  },
  {
   "cell_type": "code",
   "execution_count": null,
   "id": "7c13f7c5",
   "metadata": {},
   "outputs": [],
   "source": [
    "# 3. Serailization - It automatically converts data to JSON or dictioanry(converts to a format that can be stored or sent)\n",
    "# Its more like packaging a data for output\n",
    "print(p.json())"
   ]
  },
  {
   "cell_type": "code",
   "execution_count": null,
   "id": "400672b2",
   "metadata": {},
   "outputs": [],
   "source": [
    "print(p.dict())"
   ]
  },
  {
   "cell_type": "code",
   "execution_count": null,
   "id": "7bd6a560",
   "metadata": {},
   "outputs": [],
   "source": [
    "# 4. Nesting  - Models can be nested to create complex data structures\n",
    "\n",
    "\n",
    "class Address(BaseModel):\n",
    "    street: str\n",
    "    city: str\n",
    "    state: str\n",
    "    country: str\n",
    "\n",
    "class Fellow(BaseModel):\n",
    "    name: str\n",
    "    score: int\n",
    "    track: str\n",
    "    address: Address\n",
    "    \n",
    "# Pydantic will validate this automatically"
   ]
  },
  {
   "cell_type": "markdown",
   "id": "0ee5f546",
   "metadata": {},
   "source": [
    "Here, Fellow contains an Address —\n",
    "so instead of just primitive types (str, int),\n",
    "you’re using another Pydantic model (Address) as a field type."
   ]
  },
  {
   "cell_type": "code",
   "execution_count": null,
   "id": "e9b07d3b",
   "metadata": {},
   "outputs": [
    {
     "name": "stdout",
     "output_type": "stream",
     "text": [
      "name='Perpetual' score=88 track='AI Engineering' address=Address(street='Ajelogo Street', city='Ketu', state='Lagos', country='Nigeria')\n"
     ]
    }
   ],
   "source": [
    "# lets pass this data\n",
    "data = {\n",
    "    \"name\": \"Perpetual\",\n",
    "    \"score\": 88,\n",
    "    \"track\": \"AI Engineering\",\n",
    "    \n",
    "    \"address\": {\n",
    "        \"street\": \"Ajelogo Street\",\n",
    "        \"city\": \"Ketu\",\n",
    "        \"state\": \"Lagos\",\n",
    "        \"country\": \"Nigeria\"\n",
    "    }\n",
    "}\n",
    "\n",
    "# pydantic will parse it like this  \n",
    "fellow = Fellow(**data)\n",
    "\n",
    "print(fellow)"
   ]
  },
  {
   "cell_type": "markdown",
   "id": "5a1bb53b",
   "metadata": {},
   "source": [
    "**What is happening behind the scene**\n",
    "- Pydantic sees that Fellow as a field address of type Address.\n",
    "\n",
    "- It looks at the dictionary under \"address\".\n",
    "\n",
    "- It automatically creates an Address object inside Fellow.\n",
    "\n",
    "- It validates that street and city are both strings.\n",
    "\n",
    "So, you get deep validation — Pydantic checks every layer of your data."
   ]
  },
  {
   "cell_type": "code",
   "execution_count": null,
   "id": "57e9cece",
   "metadata": {},
   "outputs": [
    {
     "name": "stdout",
     "output_type": "stream",
     "text": [
      "Ajelogo Street\n"
     ]
    }
   ],
   "source": [
    "# you can easily access inner fields if you need to\n",
    "\n",
    "print(fellow.address.street)"
   ]
  },
  {
   "cell_type": "code",
   "execution_count": null,
   "id": "138e508a",
   "metadata": {},
   "outputs": [
    {
     "name": "stdout",
     "output_type": "stream",
     "text": [
      "{'name': 'Perpetual', 'score': 88, 'track': 'AI Engineering', 'address': {'street': 'Ajelogo Street', 'city': 'Ketu', 'state': 'Lagos', 'country': 'Nigeria'}}\n"
     ]
    },
    {
     "name": "stderr",
     "output_type": "stream",
     "text": [
      "C:\\Users\\ncc\\AppData\\Local\\Temp\\ipykernel_10952\\956739212.py:1: PydanticDeprecatedSince20: The `dict` method is deprecated; use `model_dump` instead. Deprecated in Pydantic V2.0 to be removed in V3.0. See Pydantic V2 Migration Guide at https://errors.pydantic.dev/2.12/migration/\n",
      "  print(fellow.dict())\n"
     ]
    }
   ],
   "source": [
    "print(fellow.dict())"
   ]
  },
  {
   "cell_type": "code",
   "execution_count": null,
   "id": "167ad051",
   "metadata": {},
   "outputs": [
    {
     "name": "stdout",
     "output_type": "stream",
     "text": [
      "{\"name\":\"Perpetual\",\"score\":88,\"track\":\"AI Engineering\",\"address\":{\"street\":\"Ajelogo Street\",\"city\":\"Ketu\",\"state\":\"Lagos\",\"country\":\"Nigeria\"}}\n"
     ]
    },
    {
     "name": "stderr",
     "output_type": "stream",
     "text": [
      "C:\\Users\\ncc\\AppData\\Local\\Temp\\ipykernel_10952\\1809417232.py:1: PydanticDeprecatedSince20: The `json` method is deprecated; use `model_dump_json` instead. Deprecated in Pydantic V2.0 to be removed in V3.0. See Pydantic V2 Migration Guide at https://errors.pydantic.dev/2.12/migration/\n",
      "  print(fellow.json())\n"
     ]
    }
   ],
   "source": [
    "print(fellow.json())"
   ]
  },
  {
   "cell_type": "markdown",
   "id": "eac28219",
   "metadata": {},
   "source": [
    "**A list of Nested Models**"
   ]
  },
  {
   "cell_type": "markdown",
   "id": "05cfa575",
   "metadata": {},
   "source": [
    "This makes sense, lets say you are using two addresses, yea?"
   ]
  },
  {
   "cell_type": "code",
   "execution_count": null,
   "id": "4f9fb5d8",
   "metadata": {},
   "outputs": [],
   "source": [
    "# So we can have something like this...for a list of adress\n",
    "from typing import List\n",
    "from pydantic import BaseModel\n",
    "\n",
    "class Fellow(BaseModel):\n",
    "    name: str\n",
    "    score: int\n",
    "    track: str\n",
    "    addresses: List[Address]"
   ]
  },
  {
   "cell_type": "markdown",
   "id": "778370b7",
   "metadata": {},
   "source": [
    "Here, addresses isn’t just one Address —\n",
    "it’s a list (List[Address]), meaning the person can have multiple addresses."
   ]
  },
  {
   "cell_type": "code",
   "execution_count": null,
   "id": "92b8c3e4",
   "metadata": {},
   "outputs": [
    {
     "name": "stdout",
     "output_type": "stream",
     "text": [
      "name='Perpetual' score=88 track='AI Engineering' addresses=[Address(street='Idoroko Road', city='Sango', state='Lagos', country='Nigeria'), Address(street='Kobape', city='Abeokuta', state='Ogun', country='Nigeria')]\n"
     ]
    }
   ],
   "source": [
    "data = {\n",
    "    \"name\": \"Perpetual\",\n",
    "    \"score\": 88,\n",
    "    \"track\": \"AI Engineering\",\n",
    "    \"addresses\": [\n",
    "        {\"street\": \"Idoroko Road\", \"city\": \"Sango\", \"state\": \"Lagos\",\n",
    "        \"country\": \"Nigeria\"},\n",
    "        {\"street\": \"Kobape\", \"city\": \"Abeokuta\", \"state\": \"Ogun\",\n",
    "        \"country\": \"Nigeria\"}\n",
    "    ]\n",
    "}\n",
    "\n",
    "fellow = Fellow(**data)\n",
    "print(fellow)\n"
   ]
  },
  {
   "cell_type": "markdown",
   "id": "0e5f60a2",
   "metadata": {},
   "source": [
    "**Understanding Validation**"
   ]
  },
  {
   "cell_type": "code",
   "execution_count": null,
   "id": "aae96361",
   "metadata": {},
   "outputs": [
    {
     "name": "stdout",
     "output_type": "stream",
     "text": [
      "name='Michael' score=-79 addresses=[Address(street='123 Marose St', city='Ikorodu'), Address(street='4 Babatunde Ave', city='Abiola Way')]\n"
     ]
    }
   ],
   "source": [
    "from typing import List\n",
    "from pydantic import BaseModel\n",
    "\n",
    "class Address(BaseModel):\n",
    "    street: str\n",
    "    city: str\n",
    "\n",
    "class Fellow(BaseModel):\n",
    "    name:str\n",
    "    score: int\n",
    "    addresses: List[Address]\n",
    "\n",
    "data = {\n",
    "    \"name\":\"Michael\",\n",
    "    \"score\": -79,\n",
    "    \"addresses\": [\n",
    "        {\"street\":\"123 Marose St\", \"city\": \"Ikorodu\"},\n",
    "        {\"street\": \"4 Babatunde Ave\", \"city\": \"Abiola Way\"}\n",
    "    ]\n",
    "} \n",
    "\n",
    "fellow = Fellow(**data)\n",
    "print(fellow)"
   ]
  },
  {
   "cell_type": "markdown",
   "id": "8d05f4ca",
   "metadata": {},
   "source": [
    "This works fine, but right now, any value for score is accepted,\n",
    "even something unrealistic like -79 score.\n",
    "\n",
    "Let’s fix that.\n",
    "we would do that by adding a `field level validation`"
   ]
  },
  {
   "cell_type": "markdown",
   "id": "b5ab5cf3",
   "metadata": {},
   "source": [
    "Pydantic lets you add constraints directly to fields\n",
    "using the `Field` helper"
   ]
  },
  {
   "cell_type": "code",
   "execution_count": null,
   "id": "5f8fc755",
   "metadata": {},
   "outputs": [],
   "source": [
    "from pydantic import BaseModel, Field\n",
    "from typing import List\n",
    "\n",
    "class Address(BaseModel):\n",
    "    street:str\n",
    "    city:str\n",
    "\n",
    "class Fellow(BaseModel):\n",
    "    name:str\n",
    "    score: int = Field(..., ge=0, le=100) #using the field\n",
    "    addresses: List[Address]    "
   ]
  },
  {
   "cell_type": "markdown",
   "id": "53c07f88",
   "metadata": {},
   "source": [
    "Here’s what that means:\n",
    "\n",
    "`ge=0` -greater than or equal to 0\n",
    "\n",
    "`le=100` -less than  or equal to 100\n",
    "\n",
    "The `...` means this field is required (it can’t be missing)"
   ]
  },
  {
   "cell_type": "code",
   "execution_count": null,
   "id": "0a99172d",
   "metadata": {},
   "outputs": [
    {
     "data": {
      "text/plain": [
       "Fellow(name='Hassan', score=40, addresses=[])"
      ]
     },
     "execution_count": 93,
     "metadata": {},
     "output_type": "execute_result"
    }
   ],
   "source": [
    "Fellow(name=\"Hassan\", score= -40, addresses=[])\n"
   ]
  },
  {
   "cell_type": "markdown",
   "id": "310068a4",
   "metadata": {},
   "source": [
    "...Read the error message above"
   ]
  },
  {
   "cell_type": "code",
   "execution_count": null,
   "id": "5475d9a2",
   "metadata": {},
   "outputs": [],
   "source": [
    "Fellow(name=\"Hassan\", score= 80, addresses=[])\n"
   ]
  },
  {
   "cell_type": "markdown",
   "id": "891b1a27",
   "metadata": {},
   "source": [
    "This kind of validation\n",
    "\n",
    "- prevents bad data from ever entering your system,\n",
    "\n",
    "- gives clear feedback to API clients,\n",
    "\n",
    "- and works automatically inside FastAPI (no extra code needed in your routes)."
   ]
  },
  {
   "cell_type": "markdown",
   "id": "f65bbf8f",
   "metadata": {},
   "source": [
    "**Custom Validation**"
   ]
  },
  {
   "cell_type": "markdown",
   "id": "b0ec07fe",
   "metadata": {},
   "source": [
    "You can also write custom validation logic using a `@validator` decorator."
   ]
  },
  {
   "cell_type": "code",
   "execution_count": null,
   "id": "c895e00c",
   "metadata": {},
   "outputs": [],
   "source": [
    "from pydantic import BaseModel, Field, field_validator\n",
    "class Person(BaseModel):\n",
    "    name: str\n",
    "    age: int = Field(..., ge=0)\n",
    "\n",
    "    @field_validator(\"name\")\n",
    "    def name_must_start_with_capital(cls, v):\n",
    "        if not v[0].isupper():\n",
    "            raise ValueError(\"Name must start with a capital letter\")\n",
    "        return v"
   ]
  },
  {
   "cell_type": "code",
   "execution_count": null,
   "id": "070ed905",
   "metadata": {},
   "outputs": [],
   "source": [
    "Person(name=\"solomon\", age=20)"
   ]
  },
  {
   "cell_type": "markdown",
   "id": "d51411b0",
   "metadata": {},
   "source": [
    "...Read the error message above"
   ]
  },
  {
   "cell_type": "markdown",
   "id": "c1a856c3",
   "metadata": {},
   "source": [
    "You can also write custom validation logic using a `@validator` decorator."
   ]
  },
  {
   "cell_type": "markdown",
   "id": "0fb21463",
   "metadata": {},
   "source": [
    "This is the essence of Pydantic validation, `field constraints + custom validators.`"
   ]
  },
  {
   "cell_type": "code",
   "execution_count": null,
   "id": "5c576ca5",
   "metadata": {},
   "outputs": [
    {
     "data": {
      "text/plain": [
       "Person(name='Solomon', age=20)"
      ]
     },
     "execution_count": 99,
     "metadata": {},
     "output_type": "execute_result"
    }
   ],
   "source": [
    "Person(name=\"Solomon\", age=20)"
   ]
  },
  {
   "cell_type": "markdown",
   "id": "528d2d9e",
   "metadata": {},
   "source": [
    "These types handle both validation and conversion — if the input is compatible, Pydantic converts it automatically"
   ]
  },
  {
   "cell_type": "markdown",
   "id": "651621bf",
   "metadata": {},
   "source": [
    "| Type                         | Description                               | Example                   |\n",
    "| ---------------------------- | ----------------------------------------- | ------------------------- |\n",
    "| `EmailStr`                   | Validates email address                   | `email: EmailStr`         |\n",
    "| `AnyUrl`, `HttpUrl`          | Validates URLs                            | `website: HttpUrl`        |\n",
    "| `IPv4Address`, `IPv6Address` | Validates IP addresses                    | `ip: IPv4Address`         |\n",
    "| `PaymentCardNumber`          | Validates credit card numbers             | `card: PaymentCardNumber` |\n",
    "| `UUID`                       | Validates UUIDs                           | `id: UUID`                |\n",
    "| `Decimal`                    | For exact decimal values (money, scores)  | `price: Decimal`          |\n",
    "| `FilePath`, `DirectoryPath`  | Validates existing file or directory path | `file_path: FilePath`     |\n"
   ]
  },
  {
   "cell_type": "code",
   "execution_count": null,
   "id": "54ecefb6",
   "metadata": {},
   "outputs": [],
   "source": [
    "from datetime import datetime\n",
    "from decimal import Decimal\n",
    "from pydantic import BaseModel,Field, ValidationError\n",
    "from typing import List\n",
    "\n",
    "\n",
    "# creating the model\n",
    "class ProductReview(BaseModel):\n",
    "    review_id: int = Field(..., gt= 0, lt=10000)\n",
    "    username:str = Field(..., min_length=3, max_length=12, pattern=r\"^[A-Za-z0-9_]+$\")\n",
    "    scores: List[int] = Field(..., min_length = 3, max_length=5)\n",
    "    price: Decimal = Field(..., gt=0, max_digits=6, decimal_places=2)\n",
    "    rating: float =Field(..., ge=0,le=5, multiple_of=0.5)\n",
    "    is_active: bool = Field(default =False)\n",
    "    created_at: datetime = Field(default_factory=datetime.now)"
   ]
  },
  {
   "cell_type": "code",
   "execution_count": null,
   "id": "446dd2bf",
   "metadata": {},
   "outputs": [],
   "source": [
    "#lets demo for each\n",
    "\n",
    "def demo_int_field():\n",
    "    print(\"Integer field validation\")\n",
    "    try:\n",
    "        ProductReview(review_id=2, username=\"shabi\", scores=[4,5,4], price=Decimal(\"10.00\"),rating=4.5)\n",
    "    except ValidationError as e:\n",
    "        print(e)"
   ]
  },
  {
   "cell_type": "code",
   "execution_count": null,
   "id": "52660153",
   "metadata": {},
   "outputs": [
    {
     "name": "stdout",
     "output_type": "stream",
     "text": [
      "Integer field validation\n"
     ]
    }
   ],
   "source": [
    "demo_int_field()"
   ]
  },
  {
   "cell_type": "code",
   "execution_count": null,
   "id": "d80a144d",
   "metadata": {},
   "outputs": [],
   "source": [
    "def demo_str_field():\n",
    "    print(\"String Field Validation\")\n",
    "    try:\n",
    "        ProductReview(review_id=1, username=\"Ade\", scores=[4, 5, 5], price=Decimal(\"20.00\"), rating=4.0)\n",
    "    except ValidationError as e:\n",
    "        print(e)"
   ]
  },
  {
   "cell_type": "code",
   "execution_count": null,
   "id": "4f1416ca",
   "metadata": {},
   "outputs": [
    {
     "name": "stdout",
     "output_type": "stream",
     "text": [
      "String Field Validation\n"
     ]
    }
   ],
   "source": [
    "demo_str_field()"
   ]
  },
  {
   "cell_type": "code",
   "execution_count": null,
   "id": "56591ae8",
   "metadata": {},
   "outputs": [],
   "source": [
    "def demo_list_field():\n",
    "    print(\"\\n List Field Validation\")\n",
    "    try:\n",
    "        ProductReview(review_id=2, username=\"Chrisdev\", scores=[5, 20, 4], price=Decimal(\"30.00\"),rating=3.5)\n",
    "    except ValidationError as e:\n",
    "        print(e)    "
   ]
  },
  {
   "cell_type": "code",
   "execution_count": null,
   "id": "82cbddba",
   "metadata": {},
   "outputs": [
    {
     "name": "stdout",
     "output_type": "stream",
     "text": [
      "\n",
      " List Field Validation\n"
     ]
    }
   ],
   "source": [
    "demo_list_field()"
   ]
  },
  {
   "cell_type": "code",
   "execution_count": null,
   "id": "6a9cb9db",
   "metadata": {},
   "outputs": [],
   "source": [
    "def demo_decimal_field():\n",
    "    print(\"\\n Decimal Field Validation\")\n",
    "    try:\n",
    "        ProductReview(review_id=3, username=\"Tester\", scores=[4, 4, 5], price=Decimal(\"10.00\"), rating=4.5)\n",
    "    except ValidationError as e:\n",
    "        print(e)"
   ]
  },
  {
   "cell_type": "code",
   "execution_count": null,
   "id": "3925b6e9",
   "metadata": {},
   "outputs": [
    {
     "name": "stdout",
     "output_type": "stream",
     "text": [
      "\n",
      " Decimal Field Validation\n"
     ]
    }
   ],
   "source": [
    "demo_decimal_field()"
   ]
  },
  {
   "cell_type": "code",
   "execution_count": null,
   "id": "b4d5d25a",
   "metadata": {},
   "outputs": [],
   "source": [
    "def demo_float_field():\n",
    "    print(\"\\n Float Field Validation\")\n",
    "    try:\n",
    "        ProductReview(review_id=4, username=\"SmartDev\", scores=[5, 4, 4], price=Decimal(\"99.99\"), rating=3.5)\n",
    "    except ValidationError as e:\n",
    "        print(e)"
   ]
  },
  {
   "cell_type": "code",
   "execution_count": null,
   "id": "4c8cf2d9",
   "metadata": {},
   "outputs": [
    {
     "name": "stdout",
     "output_type": "stream",
     "text": [
      "\n",
      " Float Field Validation\n"
     ]
    }
   ],
   "source": [
    "demo_float_field()"
   ]
  },
  {
   "cell_type": "code",
   "execution_count": null,
   "id": "cb368a2f",
   "metadata": {},
   "outputs": [],
   "source": [
    "def demo_bool_field():\n",
    "    print(\"\\n Boolean Field Default\")\n",
    "    product = ProductReview(\n",
    "        review_id=5,\n",
    "        username=\"JaneDoe\",\n",
    "        scores=[5, 4, 5],\n",
    "        price=Decimal(\"59.99\"),\n",
    "        rating=5.0\n",
    "    )\n",
    "    print(\"is_active =\", product.is_active)"
   ]
  },
  {
   "cell_type": "code",
   "execution_count": null,
   "id": "0a2e93cf",
   "metadata": {},
   "outputs": [
    {
     "name": "stdout",
     "output_type": "stream",
     "text": [
      "\n",
      " Boolean Field Default\n",
      "is_active = True\n"
     ]
    }
   ],
   "source": [
    "demo_bool_field()"
   ]
  },
  {
   "cell_type": "code",
   "execution_count": null,
   "id": "5849aecc",
   "metadata": {},
   "outputs": [],
   "source": [
    "def demo_datetime_field():\n",
    "    print(\"\\n Datetime Default Factory\")\n",
    "    product = ProductReview(\n",
    "        review_id=6,\n",
    "        username=\"TimeUser\",\n",
    "        scores=[3, 4, 5],\n",
    "        price=Decimal(\"25.00\"),\n",
    "        rating=4.5\n",
    "    )\n",
    "    print(\"created_at =\", product.created_at)"
   ]
  },
  {
   "cell_type": "code",
   "execution_count": null,
   "id": "2d5980e1",
   "metadata": {},
   "outputs": [
    {
     "name": "stdout",
     "output_type": "stream",
     "text": [
      "\n",
      " Datetime Default Factory\n",
      "created_at = 2025-10-15 15:24:21.513390\n"
     ]
    }
   ],
   "source": [
    "demo_datetime_field()"
   ]
  },
  {
   "cell_type": "code",
   "execution_count": null,
   "id": "6e037be0",
   "metadata": {},
   "outputs": [],
   "source": []
  },
  {
   "cell_type": "markdown",
   "id": "a2c201f2",
   "metadata": {},
   "source": [
    "**Enums and Literals**"
   ]
  },
  {
   "cell_type": "markdown",
   "id": "bfe1a7b0",
   "metadata": {},
   "source": [
    "These restrict values to fixed options.\n",
    "\n",
    "- `Enum`: Use Enum when your allowed values are still fixed, but you might want more control\n",
    "\n",
    "- `Literal`: Literal is used when you want a small, fixed set of allowed string (or number) values — but you don’t need any extra logic or behavior."
   ]
  },
  {
   "cell_type": "code",
   "execution_count": null,
   "id": "9b890c8b",
   "metadata": {},
   "outputs": [],
   "source": [
    "from typing import Literal\n",
    "from enum import Enum\n",
    "\n",
    "\n",
    "class Gender(str, Enum):\n",
    "    male = \"male\"\n",
    "    female = \"female\"\n",
    "\n",
    "gender = Gender\n",
    "print(gender.male)"
   ]
  },
  {
   "cell_type": "code",
   "execution_count": null,
   "id": "572897da",
   "metadata": {},
   "outputs": [],
   "source": [
    "\n",
    "class Person(BaseModel):\n",
    "    gender: Literal[\"male\", \"female\"]\n",
    "\n",
    "print(gender.female)"
   ]
  }
 ],
 "metadata": {
  "kernelspec": {
   "display_name": "my_venv (3.13.5)",
   "language": "python",
   "name": "python3"
  },
  "language_info": {
   "codemirror_mode": {
    "name": "ipython",
    "version": 3
   },
   "file_extension": ".py",
   "mimetype": "text/x-python",
   "name": "python",
   "nbconvert_exporter": "python",
   "pygments_lexer": "ipython3",
   "version": "3.13.5"
  }
 },
 "nbformat": 4,
 "nbformat_minor": 5
}
