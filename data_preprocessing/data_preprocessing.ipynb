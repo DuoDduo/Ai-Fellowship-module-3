{
 "cells": [
  {
   "cell_type": "markdown",
   "id": "0cee0655",
   "metadata": {},
   "source": [
    "## **Data Preprocessing**"
   ]
  },
  {
   "cell_type": "code",
   "execution_count": null,
   "id": "03a32ff0",
   "metadata": {},
   "outputs": [],
   "source": [
    "# importing necessarry libraries\n",
    "import pandas as pd\n",
    "from scipy import stats\n",
    "from sklearn.preprocessing import LabelEncoder,StandardScaler,MinMaxScaler\n",
    "\n",
    "# imputer library\n",
    "from sklearn.impute import SimpleImputer\n",
    "\n",
    "from sklearn.decomposition import PCA\n",
    "from sklearn.feature_selection import SelectKBest, f_classif"
   ]
  },
  {
   "cell_type": "code",
   "execution_count": 2,
   "id": "26be711f",
   "metadata": {},
   "outputs": [],
   "source": [
    "# importing our dataset from scikit-learn\n",
    "from sklearn.datasets import load_iris"
   ]
  },
  {
   "cell_type": "code",
   "execution_count": 3,
   "id": "b0171e9f",
   "metadata": {},
   "outputs": [],
   "source": [
    "iris_flower = load_iris()"
   ]
  },
  {
   "cell_type": "code",
   "execution_count": null,
   "id": "d067117e",
   "metadata": {},
   "outputs": [],
   "source": [
    "# loading the feature dataset\n",
    "features = pd.DataFrame(iris_flower.data, columns=iris_flower.feature_names)\n",
    "\n",
    "# loading te target dataset\n",
    "target = iris_flower.target"
   ]
  },
  {
   "cell_type": "code",
   "execution_count": null,
   "id": "73a19dd5",
   "metadata": {},
   "outputs": [
    {
     "data": {
      "text/html": [
       "<div>\n",
       "<style scoped>\n",
       "    .dataframe tbody tr th:only-of-type {\n",
       "        vertical-align: middle;\n",
       "    }\n",
       "\n",
       "    .dataframe tbody tr th {\n",
       "        vertical-align: top;\n",
       "    }\n",
       "\n",
       "    .dataframe thead th {\n",
       "        text-align: right;\n",
       "    }\n",
       "</style>\n",
       "<table border=\"1\" class=\"dataframe\">\n",
       "  <thead>\n",
       "    <tr style=\"text-align: right;\">\n",
       "      <th></th>\n",
       "      <th>sepal length (cm)</th>\n",
       "      <th>sepal width (cm)</th>\n",
       "      <th>petal length (cm)</th>\n",
       "      <th>petal width (cm)</th>\n",
       "    </tr>\n",
       "  </thead>\n",
       "  <tbody>\n",
       "    <tr>\n",
       "      <th>0</th>\n",
       "      <td>5.1</td>\n",
       "      <td>3.5</td>\n",
       "      <td>1.4</td>\n",
       "      <td>0.2</td>\n",
       "    </tr>\n",
       "    <tr>\n",
       "      <th>1</th>\n",
       "      <td>4.9</td>\n",
       "      <td>3.0</td>\n",
       "      <td>1.4</td>\n",
       "      <td>0.2</td>\n",
       "    </tr>\n",
       "    <tr>\n",
       "      <th>2</th>\n",
       "      <td>4.7</td>\n",
       "      <td>3.2</td>\n",
       "      <td>1.3</td>\n",
       "      <td>0.2</td>\n",
       "    </tr>\n",
       "    <tr>\n",
       "      <th>3</th>\n",
       "      <td>4.6</td>\n",
       "      <td>3.1</td>\n",
       "      <td>1.5</td>\n",
       "      <td>0.2</td>\n",
       "    </tr>\n",
       "    <tr>\n",
       "      <th>4</th>\n",
       "      <td>5.0</td>\n",
       "      <td>3.6</td>\n",
       "      <td>1.4</td>\n",
       "      <td>0.2</td>\n",
       "    </tr>\n",
       "  </tbody>\n",
       "</table>\n",
       "</div>"
      ],
      "text/plain": [
       "   sepal length (cm)  sepal width (cm)  petal length (cm)  petal width (cm)\n",
       "0                5.1               3.5                1.4               0.2\n",
       "1                4.9               3.0                1.4               0.2\n",
       "2                4.7               3.2                1.3               0.2\n",
       "3                4.6               3.1                1.5               0.2\n",
       "4                5.0               3.6                1.4               0.2"
      ]
     },
     "execution_count": 6,
     "metadata": {},
     "output_type": "execute_result"
    }
   ],
   "source": [
    "# previewing the first five rows\n",
    "features.head()"
   ]
  },
  {
   "cell_type": "markdown",
   "id": "a5afe0d3",
   "metadata": {},
   "source": [
    "##### **1. Handling Missing Values**"
   ]
  },
  {
   "cell_type": "code",
   "execution_count": 9,
   "id": "cf1b4ca5",
   "metadata": {},
   "outputs": [
    {
     "data": {
      "text/plain": [
       "sepal length (cm)    0\n",
       "sepal width (cm)     0\n",
       "petal length (cm)    0\n",
       "petal width (cm)     0\n",
       "dtype: int64"
      ]
     },
     "execution_count": 9,
     "metadata": {},
     "output_type": "execute_result"
    }
   ],
   "source": [
    "# checking for missing values\n",
    "features.isna().sum()"
   ]
  },
  {
   "cell_type": "code",
   "execution_count": 11,
   "id": "967ff08b",
   "metadata": {},
   "outputs": [
    {
     "name": "stdout",
     "output_type": "stream",
     "text": [
      "<class 'pandas.core.frame.DataFrame'>\n",
      "RangeIndex: 150 entries, 0 to 149\n",
      "Data columns (total 4 columns):\n",
      " #   Column             Non-Null Count  Dtype  \n",
      "---  ------             --------------  -----  \n",
      " 0   sepal length (cm)  150 non-null    float64\n",
      " 1   sepal width (cm)   150 non-null    float64\n",
      " 2   petal length (cm)  150 non-null    float64\n",
      " 3   petal width (cm)   150 non-null    float64\n",
      "dtypes: float64(4)\n",
      "memory usage: 4.8 KB\n"
     ]
    }
   ],
   "source": [
    "# taking a snaoshot of our dataset\n",
    "features.info()"
   ]
  },
  {
   "cell_type": "markdown",
   "id": "6ff051ff",
   "metadata": {},
   "source": [
    "This dataset does not have missing values, but we will introduce missing values. indexing and slicing  using `.iloc[]` and `.loc[]`"
   ]
  },
  {
   "cell_type": "code",
   "execution_count": 12,
   "id": "10f2ca36",
   "metadata": {},
   "outputs": [],
   "source": [
    "# introducing missing values to our data\n",
    "features.loc[10,\"sepal length (cm)\"]=None\n",
    "features.loc[50:54,\"sepal width (cm)\"] = None\n",
    "features.loc[100:102, \"petal length (cm)\"]= None "
   ]
  },
  {
   "cell_type": "code",
   "execution_count": 16,
   "id": "3d9e1e35",
   "metadata": {},
   "outputs": [
    {
     "data": {
      "text/plain": [
       "sepal length (cm)    1\n",
       "sepal width (cm)     5\n",
       "petal length (cm)    3\n",
       "petal width (cm)     0\n",
       "dtype: int64"
      ]
     },
     "execution_count": 16,
     "metadata": {},
     "output_type": "execute_result"
    }
   ],
   "source": [
    "# checking for missing values again\n",
    "features.isnull().sum()"
   ]
  },
  {
   "cell_type": "code",
   "execution_count": 17,
   "id": "5f2e6441",
   "metadata": {},
   "outputs": [],
   "source": [
    "# creating an instance of the imputer class using mean as strategy for imputation\n",
    "impute_mean = SimpleImputer(strategy=\"mean\")"
   ]
  },
  {
   "cell_type": "code",
   "execution_count": 18,
   "id": "7694a458",
   "metadata": {},
   "outputs": [],
   "source": [
    "# creating an instance of the imputer class using median as strategy for imputation\n",
    "impute_median = SimpleImputer(strategy=\"median\")"
   ]
  },
  {
   "cell_type": "code",
   "execution_count": null,
   "id": "0c925f23",
   "metadata": {},
   "outputs": [],
   "source": [
    "# applying the defined mean instance and filling the missing valuess\n",
    "features[[\"sepal length (cm)\"]] = impute_mean.fit_transform(features[[\"sepal length (cm)\"]])\n",
    "features[[\"sepal width (cm)\"]] = impute_mean.fit_transform(features[[\"sepal width (cm)\"]])\n",
    "features[[\"petal length (cm)\"]] = impute_median.fit_transform(features[[\"petal length (cm)\"]])"
   ]
  },
  {
   "cell_type": "code",
   "execution_count": null,
   "id": "820f9800",
   "metadata": {},
   "outputs": [
    {
     "data": {
      "text/plain": [
       "sepal length (cm)    0\n",
       "sepal width (cm)     0\n",
       "petal length (cm)    0\n",
       "petal width (cm)     0\n",
       "dtype: int64"
      ]
     },
     "execution_count": 20,
     "metadata": {},
     "output_type": "execute_result"
    }
   ],
   "source": [
    "# check for missing values again\n",
    "features.isna().sum()"
   ]
  },
  {
   "cell_type": "markdown",
   "id": "355a0dd7",
   "metadata": {},
   "source": [
    "##### **2. Handling Outliers**"
   ]
  },
  {
   "cell_type": "code",
   "execution_count": null,
   "id": "76a9ddf2",
   "metadata": {},
   "outputs": [],
   "source": [
    "# calculating the z-score for the whole dataframe\n"
   ]
  }
 ],
 "metadata": {
  "kernelspec": {
   "display_name": "my_venv",
   "language": "python",
   "name": "python3"
  },
  "language_info": {
   "codemirror_mode": {
    "name": "ipython",
    "version": 3
   },
   "file_extension": ".py",
   "mimetype": "text/x-python",
   "name": "python",
   "nbconvert_exporter": "python",
   "pygments_lexer": "ipython3",
   "version": "3.12.1"
  }
 },
 "nbformat": 4,
 "nbformat_minor": 5
}
