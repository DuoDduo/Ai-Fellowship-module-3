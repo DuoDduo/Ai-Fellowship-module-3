{
 "cells": [
  {
   "cell_type": "markdown",
   "id": "7a16b1cf",
   "metadata": {},
   "source": [
    "### **UNSUPERVISED LEARNING PROJECT - Customer Segmentation with Clustering**"
   ]
  },
  {
   "cell_type": "markdown",
   "id": "2756b49d",
   "metadata": {},
   "source": [
    "#### **1. Data ingestion**"
   ]
  },
  {
   "cell_type": "code",
   "execution_count": null,
   "id": "7499023d",
   "metadata": {},
   "outputs": [],
   "source": [
    "# importing all neccessary libraries\n",
    "import pandas as pd\n",
    "import numpy as np\n",
    "import matplotlib.pyplot as plt\n",
    "import seaborn as sns\n",
    "from datetime import datetime\n",
    "import warnings\n",
    "import zipfile\n",
    "\n",
    "# importing standard scaler\n",
    "from sklearn.preprocessing import StandardScaler\n",
    "\n",
    "# import kmeans\n",
    "from sklearn.cluster import KMeans\n",
    "from sklearn.metrics import silhouette_score\n",
    "from sklearn.metrics import silhouette_samples\n",
    "\n",
    "warnings.filterwarnings(\"ignore\")\n",
    "\n",
    "pd.set_option(\"display.max_columns\",None)\n",
    "pd.set_option(\"display.width\", None)"
   ]
  },
  {
   "cell_type": "code",
   "execution_count": null,
   "id": "42e99ca0",
   "metadata": {},
   "outputs": [],
   "source": []
  }
 ],
 "metadata": {
  "kernelspec": {
   "display_name": "my_venv",
   "language": "python",
   "name": "python3"
  },
  "language_info": {
   "name": "python",
   "version": "3.14.0"
  }
 },
 "nbformat": 4,
 "nbformat_minor": 5
}
