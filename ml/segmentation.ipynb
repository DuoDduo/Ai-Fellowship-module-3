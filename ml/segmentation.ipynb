{
 "cells": [
  {
   "cell_type": "markdown",
   "id": "7a16b1cf",
   "metadata": {},
   "source": [
    "### **UNSUPERVISED LEARNING PROJECT - Customer Segmentation with Clustering**"
   ]
  },
  {
   "cell_type": "markdown",
   "id": "2756b49d",
   "metadata": {},
   "source": [
    "#### **1. Data ingestion**"
   ]
  },
  {
   "cell_type": "code",
   "execution_count": 1,
   "id": "7499023d",
   "metadata": {},
   "outputs": [],
   "source": [
    "# importing all neccessary libraries\n",
    "import pandas as pd\n",
    "import numpy as np\n",
    "import matplotlib.pyplot as plt\n",
    "import seaborn as sns\n",
    "from datetime import datetime\n",
    "import warnings\n",
    "import zipfile\n",
    "\n",
    "# importing standard scaler\n",
    "from sklearn.preprocessing import StandardScaler\n",
    "\n",
    "# import kmeans\n",
    "from sklearn.cluster import KMeans\n",
    "from sklearn.metrics import silhouette_score\n",
    "from sklearn.metrics import silhouette_samples\n",
    "\n",
    "warnings.filterwarnings(\"ignore\")\n",
    "\n",
    "pd.set_option(\"display.max_columns\",None)\n",
    "pd.set_option(\"display.width\", None)"
   ]
  },
  {
   "cell_type": "code",
   "execution_count": 2,
   "id": "42e99ca0",
   "metadata": {},
   "outputs": [],
   "source": [
    "# downloading the data\n",
    "url = 'https://archive.ics.uci.edu/ml/machine-learning-databases/00352/Online%20Retail.xlsx'"
   ]
  },
  {
   "cell_type": "code",
   "execution_count": 5,
   "id": "0011f616",
   "metadata": {},
   "outputs": [
    {
     "name": "stdout",
     "output_type": "stream",
     "text": [
      "Note: If download fails, download from here\n",
      "https://archive.ics.uci.edu/ml/datasets/online+retail\n",
      "Then load with: df = pd.read_excel('Online Retail.xlsx')\n"
     ]
    }
   ],
   "source": [
    "try:\n",
    "    df = pd.read_excel(url)\n",
    "    print(\"Data Loaded Succesfully\")\n",
    "except:\n",
    "    print(\"Note: If download fails, download from here\")    \n",
    "    print(\"https://archive.ics.uci.edu/ml/datasets/online+retail\")\n",
    "    print(\"Then load with: df = pd.read_excel('Online Retail.xlsx')\")"
   ]
  },
  {
   "cell_type": "code",
   "execution_count": 4,
   "id": "eb3f0050",
   "metadata": {},
   "outputs": [
    {
     "ename": "NameError",
     "evalue": "name 'df' is not defined",
     "output_type": "error",
     "traceback": [
      "\u001b[31m---------------------------------------------------------------------------\u001b[39m",
      "\u001b[31mNameError\u001b[39m                                 Traceback (most recent call last)",
      "\u001b[36mCell\u001b[39m\u001b[36m \u001b[39m\u001b[32mIn[4]\u001b[39m\u001b[32m, line 1\u001b[39m\n\u001b[32m----> \u001b[39m\u001b[32m1\u001b[39m \u001b[43mdf\u001b[49m.to_csv(Online_Retail.csv, index=\u001b[38;5;28;01mFalse\u001b[39;00m)\n",
      "\u001b[31mNameError\u001b[39m: name 'df' is not defined"
     ]
    }
   ],
   "source": [
    "df.to_csv(Online_Retail.csv, index=False)"
   ]
  },
  {
   "cell_type": "code",
   "execution_count": null,
   "id": "0b0386d2",
   "metadata": {},
   "outputs": [],
   "source": []
  }
 ],
 "metadata": {
  "kernelspec": {
   "display_name": "my_venv",
   "language": "python",
   "name": "python3"
  },
  "language_info": {
   "codemirror_mode": {
    "name": "ipython",
    "version": 3
   },
   "file_extension": ".py",
   "mimetype": "text/x-python",
   "name": "python",
   "nbconvert_exporter": "python",
   "pygments_lexer": "ipython3",
   "version": "3.14.0"
  }
 },
 "nbformat": 4,
 "nbformat_minor": 5
}
